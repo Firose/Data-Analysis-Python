{
 "cells": [
  {
   "cell_type": "code",
   "execution_count": 84,
   "metadata": {},
   "outputs": [],
   "source": [
    "import pandas as pd\n",
    "import seaborn as sns"
   ]
  },
  {
   "cell_type": "code",
   "execution_count": 2,
   "metadata": {},
   "outputs": [],
   "source": [
    "gp = pd.read_csv(\"Google-Playstore-32K.csv\")"
   ]
  },
  {
   "cell_type": "code",
   "execution_count": 3,
   "metadata": {},
   "outputs": [],
   "source": [
    "del gp[\"App Name\"]\n",
    "del gp[\"Latest Version\"]\n",
    "del gp[\"Minimum Version\"]\n",
    "del gp[\"Last Updated\"]"
   ]
  },
  {
   "cell_type": "code",
   "execution_count": 4,
   "metadata": {},
   "outputs": [
    {
     "data": {
      "text/html": [
       "<div>\n",
       "<style scoped>\n",
       "    .dataframe tbody tr th:only-of-type {\n",
       "        vertical-align: middle;\n",
       "    }\n",
       "\n",
       "    .dataframe tbody tr th {\n",
       "        vertical-align: top;\n",
       "    }\n",
       "\n",
       "    .dataframe thead th {\n",
       "        text-align: right;\n",
       "    }\n",
       "</style>\n",
       "<table border=\"1\" class=\"dataframe\">\n",
       "  <thead>\n",
       "    <tr style=\"text-align: right;\">\n",
       "      <th></th>\n",
       "      <th>Category</th>\n",
       "      <th>Rating</th>\n",
       "      <th>Reviews</th>\n",
       "      <th>Installs</th>\n",
       "      <th>Size</th>\n",
       "      <th>Price</th>\n",
       "      <th>Content Rating</th>\n",
       "    </tr>\n",
       "  </thead>\n",
       "  <tbody>\n",
       "    <tr>\n",
       "      <th>0</th>\n",
       "      <td>FOOD_AND_DRINK</td>\n",
       "      <td>4.548561573</td>\n",
       "      <td>305034.0</td>\n",
       "      <td>5,000,000+</td>\n",
       "      <td>Varies with device</td>\n",
       "      <td>0</td>\n",
       "      <td>Everyone</td>\n",
       "    </tr>\n",
       "    <tr>\n",
       "      <th>1</th>\n",
       "      <td>TRAVEL_AND_LOCAL</td>\n",
       "      <td>4.400671482</td>\n",
       "      <td>1207922.0</td>\n",
       "      <td>100,000,000+</td>\n",
       "      <td>Varies with device</td>\n",
       "      <td>0</td>\n",
       "      <td>Everyone</td>\n",
       "    </tr>\n",
       "    <tr>\n",
       "      <th>2</th>\n",
       "      <td>SHOPPING</td>\n",
       "      <td>3.656329393</td>\n",
       "      <td>1967.0</td>\n",
       "      <td>100,000+</td>\n",
       "      <td>1.4M</td>\n",
       "      <td>0</td>\n",
       "      <td>Everyone</td>\n",
       "    </tr>\n",
       "    <tr>\n",
       "      <th>3</th>\n",
       "      <td>FOOD_AND_DRINK</td>\n",
       "      <td>4.107232571</td>\n",
       "      <td>389154.0</td>\n",
       "      <td>10,000,000+</td>\n",
       "      <td>16M</td>\n",
       "      <td>0</td>\n",
       "      <td>Everyone</td>\n",
       "    </tr>\n",
       "    <tr>\n",
       "      <th>4</th>\n",
       "      <td>FOOD_AND_DRINK</td>\n",
       "      <td>4.647752285</td>\n",
       "      <td>2291.0</td>\n",
       "      <td>10,000+</td>\n",
       "      <td>Varies with device</td>\n",
       "      <td>$5.99</td>\n",
       "      <td>Everyone</td>\n",
       "    </tr>\n",
       "    <tr>\n",
       "      <th>5</th>\n",
       "      <td>FOOD_AND_DRINK</td>\n",
       "      <td>3.82532239</td>\n",
       "      <td>2559.0</td>\n",
       "      <td>100,000+</td>\n",
       "      <td>23M</td>\n",
       "      <td>0</td>\n",
       "      <td>Everyone</td>\n",
       "    </tr>\n",
       "    <tr>\n",
       "      <th>6</th>\n",
       "      <td>TRAVEL_AND_LOCAL</td>\n",
       "      <td>4.267267704</td>\n",
       "      <td>421918.0</td>\n",
       "      <td>10,000,000+</td>\n",
       "      <td>Varies with device</td>\n",
       "      <td>0</td>\n",
       "      <td>Teen</td>\n",
       "    </tr>\n",
       "    <tr>\n",
       "      <th>7</th>\n",
       "      <td>FOOD_AND_DRINK</td>\n",
       "      <td>4.495084763</td>\n",
       "      <td>142618.0</td>\n",
       "      <td>5,000,000+</td>\n",
       "      <td>Varies with device</td>\n",
       "      <td>0</td>\n",
       "      <td>Everyone</td>\n",
       "    </tr>\n",
       "    <tr>\n",
       "      <th>8</th>\n",
       "      <td>TRAVEL_AND_LOCAL</td>\n",
       "      <td>3.811764717</td>\n",
       "      <td>85.0</td>\n",
       "      <td>10,000+</td>\n",
       "      <td>4.1M</td>\n",
       "      <td>0</td>\n",
       "      <td>Everyone</td>\n",
       "    </tr>\n",
       "    <tr>\n",
       "      <th>9</th>\n",
       "      <td>FOOD_AND_DRINK</td>\n",
       "      <td>4.545353413</td>\n",
       "      <td>67514.0</td>\n",
       "      <td>5,000,000+</td>\n",
       "      <td>Varies with device</td>\n",
       "      <td>0</td>\n",
       "      <td>Everyone</td>\n",
       "    </tr>\n",
       "    <tr>\n",
       "      <th>10</th>\n",
       "      <td>FOOD_AND_DRINK</td>\n",
       "      <td>4.511622429</td>\n",
       "      <td>28996.0</td>\n",
       "      <td>1,000,000+</td>\n",
       "      <td>Varies with device</td>\n",
       "      <td>0</td>\n",
       "      <td>Everyone</td>\n",
       "    </tr>\n",
       "    <tr>\n",
       "      <th>11</th>\n",
       "      <td>FOOD_AND_DRINK</td>\n",
       "      <td>4.325407505</td>\n",
       "      <td>41637.0</td>\n",
       "      <td>1,000,000+</td>\n",
       "      <td>Varies with device</td>\n",
       "      <td>0</td>\n",
       "      <td>Everyone</td>\n",
       "    </tr>\n",
       "    <tr>\n",
       "      <th>12</th>\n",
       "      <td>LIFESTYLE</td>\n",
       "      <td>3.213527918</td>\n",
       "      <td>754.0</td>\n",
       "      <td>100,000+</td>\n",
       "      <td>39M</td>\n",
       "      <td>0</td>\n",
       "      <td>Everyone</td>\n",
       "    </tr>\n",
       "    <tr>\n",
       "      <th>13</th>\n",
       "      <td>FOOD_AND_DRINK</td>\n",
       "      <td>4.160278797</td>\n",
       "      <td>287.0</td>\n",
       "      <td>100,000+</td>\n",
       "      <td>8.1M</td>\n",
       "      <td>0</td>\n",
       "      <td>Everyone</td>\n",
       "    </tr>\n",
       "    <tr>\n",
       "      <th>14</th>\n",
       "      <td>FOOD_AND_DRINK</td>\n",
       "      <td>4.739675045</td>\n",
       "      <td>1177040.0</td>\n",
       "      <td>10,000,000+</td>\n",
       "      <td>Varies with device</td>\n",
       "      <td>0</td>\n",
       "      <td>Everyone</td>\n",
       "    </tr>\n",
       "    <tr>\n",
       "      <th>15</th>\n",
       "      <td>FOOD_AND_DRINK</td>\n",
       "      <td>4.630653858</td>\n",
       "      <td>1282039.0</td>\n",
       "      <td>10,000,000+</td>\n",
       "      <td>Varies with device</td>\n",
       "      <td>0</td>\n",
       "      <td>Everyone</td>\n",
       "    </tr>\n",
       "    <tr>\n",
       "      <th>16</th>\n",
       "      <td>FOOD_AND_DRINK</td>\n",
       "      <td>4.374690533</td>\n",
       "      <td>52526.0</td>\n",
       "      <td>5,000,000+</td>\n",
       "      <td>19M</td>\n",
       "      <td>0</td>\n",
       "      <td>Everyone</td>\n",
       "    </tr>\n",
       "    <tr>\n",
       "      <th>17</th>\n",
       "      <td>FOOD_AND_DRINK</td>\n",
       "      <td>4.614589691</td>\n",
       "      <td>24291.0</td>\n",
       "      <td>1,000,000+</td>\n",
       "      <td>Varies with device</td>\n",
       "      <td>0</td>\n",
       "      <td>Everyone</td>\n",
       "    </tr>\n",
       "    <tr>\n",
       "      <th>18</th>\n",
       "      <td>FOOD_AND_DRINK</td>\n",
       "      <td>4.517921925</td>\n",
       "      <td>41597.0</td>\n",
       "      <td>1,000,000+</td>\n",
       "      <td>30M</td>\n",
       "      <td>0</td>\n",
       "      <td>Everyone</td>\n",
       "    </tr>\n",
       "    <tr>\n",
       "      <th>19</th>\n",
       "      <td>FOOD_AND_DRINK</td>\n",
       "      <td>3.909141541</td>\n",
       "      <td>10764.0</td>\n",
       "      <td>1,000,000+</td>\n",
       "      <td>11M</td>\n",
       "      <td>0</td>\n",
       "      <td>Everyone</td>\n",
       "    </tr>\n",
       "    <tr>\n",
       "      <th>20</th>\n",
       "      <td>FOOD_AND_DRINK</td>\n",
       "      <td>4.514294147</td>\n",
       "      <td>164089.0</td>\n",
       "      <td>10,000,000+</td>\n",
       "      <td>11M</td>\n",
       "      <td>0</td>\n",
       "      <td>Everyone</td>\n",
       "    </tr>\n",
       "    <tr>\n",
       "      <th>21</th>\n",
       "      <td>FOOD_AND_DRINK</td>\n",
       "      <td>4.32782793</td>\n",
       "      <td>1521679.0</td>\n",
       "      <td>50,000,000+</td>\n",
       "      <td>Varies with device</td>\n",
       "      <td>0</td>\n",
       "      <td>Everyone</td>\n",
       "    </tr>\n",
       "    <tr>\n",
       "      <th>22</th>\n",
       "      <td>SHOPPING</td>\n",
       "      <td>4.248818398</td>\n",
       "      <td>4867.0</td>\n",
       "      <td>500,000+</td>\n",
       "      <td>23M</td>\n",
       "      <td>0</td>\n",
       "      <td>Everyone</td>\n",
       "    </tr>\n",
       "    <tr>\n",
       "      <th>23</th>\n",
       "      <td>SHOPPING</td>\n",
       "      <td>3.813571692</td>\n",
       "      <td>8223.0</td>\n",
       "      <td>1,000,000+</td>\n",
       "      <td>14M</td>\n",
       "      <td>0</td>\n",
       "      <td>Everyone</td>\n",
       "    </tr>\n",
       "    <tr>\n",
       "      <th>24</th>\n",
       "      <td>SHOPPING</td>\n",
       "      <td>3.924423456</td>\n",
       "      <td>24849.0</td>\n",
       "      <td>10,000,000+</td>\n",
       "      <td>38M</td>\n",
       "      <td>0</td>\n",
       "      <td>Teen</td>\n",
       "    </tr>\n",
       "    <tr>\n",
       "      <th>25</th>\n",
       "      <td>FOOD_AND_DRINK</td>\n",
       "      <td>4.689526558</td>\n",
       "      <td>62730.0</td>\n",
       "      <td>1,000,000+</td>\n",
       "      <td>15M</td>\n",
       "      <td>0</td>\n",
       "      <td>Everyone</td>\n",
       "    </tr>\n",
       "    <tr>\n",
       "      <th>26</th>\n",
       "      <td>SHOPPING</td>\n",
       "      <td>4.420088291</td>\n",
       "      <td>467761.0</td>\n",
       "      <td>10,000,000+</td>\n",
       "      <td>55M</td>\n",
       "      <td>0</td>\n",
       "      <td>Everyone</td>\n",
       "    </tr>\n",
       "    <tr>\n",
       "      <th>27</th>\n",
       "      <td>FOOD_AND_DRINK</td>\n",
       "      <td>4.568304539</td>\n",
       "      <td>39280.0</td>\n",
       "      <td>1,000,000+</td>\n",
       "      <td>7.8M</td>\n",
       "      <td>0</td>\n",
       "      <td>Everyone</td>\n",
       "    </tr>\n",
       "    <tr>\n",
       "      <th>28</th>\n",
       "      <td>FOOD_AND_DRINK</td>\n",
       "      <td>4.397297859</td>\n",
       "      <td>217693.0</td>\n",
       "      <td>10,000,000+</td>\n",
       "      <td>30M</td>\n",
       "      <td>0</td>\n",
       "      <td>Everyone</td>\n",
       "    </tr>\n",
       "    <tr>\n",
       "      <th>29</th>\n",
       "      <td>FOOD_AND_DRINK</td>\n",
       "      <td>4.599673271</td>\n",
       "      <td>103468.0</td>\n",
       "      <td>5,000,000+</td>\n",
       "      <td>17M</td>\n",
       "      <td>0</td>\n",
       "      <td>Everyone</td>\n",
       "    </tr>\n",
       "    <tr>\n",
       "      <th>...</th>\n",
       "      <td>...</td>\n",
       "      <td>...</td>\n",
       "      <td>...</td>\n",
       "      <td>...</td>\n",
       "      <td>...</td>\n",
       "      <td>...</td>\n",
       "      <td>...</td>\n",
       "    </tr>\n",
       "    <tr>\n",
       "      <th>31970</th>\n",
       "      <td>SPORTS</td>\n",
       "      <td>3.885766745</td>\n",
       "      <td>9787.0</td>\n",
       "      <td>500,000+</td>\n",
       "      <td>Varies with device</td>\n",
       "      <td>0</td>\n",
       "      <td>Everyone</td>\n",
       "    </tr>\n",
       "    <tr>\n",
       "      <th>31971</th>\n",
       "      <td>SPORTS</td>\n",
       "      <td>3.898115396</td>\n",
       "      <td>78481.0</td>\n",
       "      <td>5,000,000+</td>\n",
       "      <td>15M</td>\n",
       "      <td>0</td>\n",
       "      <td>Everyone</td>\n",
       "    </tr>\n",
       "    <tr>\n",
       "      <th>31972</th>\n",
       "      <td>SPORTS</td>\n",
       "      <td>4.581111908</td>\n",
       "      <td>55146.0</td>\n",
       "      <td>5,000,000+</td>\n",
       "      <td>12M</td>\n",
       "      <td>0</td>\n",
       "      <td>Everyone</td>\n",
       "    </tr>\n",
       "    <tr>\n",
       "      <th>31973</th>\n",
       "      <td>EDUCATION</td>\n",
       "      <td>4.303571224</td>\n",
       "      <td>112.0</td>\n",
       "      <td>10,000+</td>\n",
       "      <td>3.7M</td>\n",
       "      <td>0</td>\n",
       "      <td>Everyone</td>\n",
       "    </tr>\n",
       "    <tr>\n",
       "      <th>31974</th>\n",
       "      <td>BOOKS_AND_REFERENCE</td>\n",
       "      <td>4.776018143</td>\n",
       "      <td>442.0</td>\n",
       "      <td>10,000+</td>\n",
       "      <td>20M</td>\n",
       "      <td>0</td>\n",
       "      <td>Everyone</td>\n",
       "    </tr>\n",
       "    <tr>\n",
       "      <th>31975</th>\n",
       "      <td>BOOKS_AND_REFERENCE</td>\n",
       "      <td>4.823009014</td>\n",
       "      <td>113.0</td>\n",
       "      <td>1,000+</td>\n",
       "      <td>29M</td>\n",
       "      <td>0</td>\n",
       "      <td>Everyone</td>\n",
       "    </tr>\n",
       "    <tr>\n",
       "      <th>31976</th>\n",
       "      <td>BOOKS_AND_REFERENCE</td>\n",
       "      <td>4.857190132</td>\n",
       "      <td>3025.0</td>\n",
       "      <td>100,000+</td>\n",
       "      <td>41M</td>\n",
       "      <td>0</td>\n",
       "      <td>Everyone</td>\n",
       "    </tr>\n",
       "    <tr>\n",
       "      <th>31977</th>\n",
       "      <td>BOOKS_AND_REFERENCE</td>\n",
       "      <td>4.845118046</td>\n",
       "      <td>1188.0</td>\n",
       "      <td>50,000+</td>\n",
       "      <td>24M</td>\n",
       "      <td>0</td>\n",
       "      <td>Everyone</td>\n",
       "    </tr>\n",
       "    <tr>\n",
       "      <th>31978</th>\n",
       "      <td>BOOKS_AND_REFERENCE</td>\n",
       "      <td>4.923077106</td>\n",
       "      <td>351.0</td>\n",
       "      <td>10,000+</td>\n",
       "      <td>46M</td>\n",
       "      <td>0</td>\n",
       "      <td>Everyone</td>\n",
       "    </tr>\n",
       "    <tr>\n",
       "      <th>31979</th>\n",
       "      <td>EDUCATION</td>\n",
       "      <td>4.746913433</td>\n",
       "      <td>486.0</td>\n",
       "      <td>100,000+</td>\n",
       "      <td>11M</td>\n",
       "      <td>0</td>\n",
       "      <td>Everyone</td>\n",
       "    </tr>\n",
       "    <tr>\n",
       "      <th>31980</th>\n",
       "      <td>EDUCATION</td>\n",
       "      <td>4.454545498</td>\n",
       "      <td>11.0</td>\n",
       "      <td>5,000+</td>\n",
       "      <td>6.9M</td>\n",
       "      <td>0</td>\n",
       "      <td>Everyone</td>\n",
       "    </tr>\n",
       "    <tr>\n",
       "      <th>31981</th>\n",
       "      <td>EDUCATION</td>\n",
       "      <td>4.638059616</td>\n",
       "      <td>804.0</td>\n",
       "      <td>100,000+</td>\n",
       "      <td>21M</td>\n",
       "      <td>0</td>\n",
       "      <td>Everyone</td>\n",
       "    </tr>\n",
       "    <tr>\n",
       "      <th>31982</th>\n",
       "      <td>EDUCATION</td>\n",
       "      <td>4.607842922</td>\n",
       "      <td>1224.0</td>\n",
       "      <td>100,000+</td>\n",
       "      <td>6.3M</td>\n",
       "      <td>0</td>\n",
       "      <td>Everyone</td>\n",
       "    </tr>\n",
       "    <tr>\n",
       "      <th>31983</th>\n",
       "      <td>TOOLS</td>\n",
       "      <td>3.304606199</td>\n",
       "      <td>673.0</td>\n",
       "      <td>10,000+</td>\n",
       "      <td>3.5M</td>\n",
       "      <td>0</td>\n",
       "      <td>Everyone</td>\n",
       "    </tr>\n",
       "    <tr>\n",
       "      <th>31984</th>\n",
       "      <td>ENTERTAINMENT</td>\n",
       "      <td>3.628856897</td>\n",
       "      <td>11214.0</td>\n",
       "      <td>100,000+</td>\n",
       "      <td>1.6M</td>\n",
       "      <td>0</td>\n",
       "      <td>Everyone</td>\n",
       "    </tr>\n",
       "    <tr>\n",
       "      <th>31985</th>\n",
       "      <td>TOOLS</td>\n",
       "      <td>3.991338491</td>\n",
       "      <td>1270.0</td>\n",
       "      <td>50,000+</td>\n",
       "      <td>10M</td>\n",
       "      <td>0</td>\n",
       "      <td>Everyone</td>\n",
       "    </tr>\n",
       "    <tr>\n",
       "      <th>31986</th>\n",
       "      <td>EDUCATION</td>\n",
       "      <td>3.933333397</td>\n",
       "      <td>15.0</td>\n",
       "      <td>1,000+</td>\n",
       "      <td>66M</td>\n",
       "      <td>0</td>\n",
       "      <td>Everyone</td>\n",
       "    </tr>\n",
       "    <tr>\n",
       "      <th>31987</th>\n",
       "      <td>GAME_EDUCATIONAL</td>\n",
       "      <td>4.579809189</td>\n",
       "      <td>1466.0</td>\n",
       "      <td>50,000+</td>\n",
       "      <td>22M</td>\n",
       "      <td>0</td>\n",
       "      <td>Everyone</td>\n",
       "    </tr>\n",
       "    <tr>\n",
       "      <th>31988</th>\n",
       "      <td>TOOLS</td>\n",
       "      <td>3.5</td>\n",
       "      <td>10.0</td>\n",
       "      <td>1,000+</td>\n",
       "      <td>1.7M</td>\n",
       "      <td>0</td>\n",
       "      <td>Everyone</td>\n",
       "    </tr>\n",
       "    <tr>\n",
       "      <th>31989</th>\n",
       "      <td>BUSINESS</td>\n",
       "      <td>4.800000191</td>\n",
       "      <td>5.0</td>\n",
       "      <td>1,000+</td>\n",
       "      <td>48M</td>\n",
       "      <td>0</td>\n",
       "      <td>Teen</td>\n",
       "    </tr>\n",
       "    <tr>\n",
       "      <th>31990</th>\n",
       "      <td>BUSINESS</td>\n",
       "      <td>1.51111114</td>\n",
       "      <td>45.0</td>\n",
       "      <td>5,000+</td>\n",
       "      <td>50M</td>\n",
       "      <td>0</td>\n",
       "      <td>Everyone</td>\n",
       "    </tr>\n",
       "    <tr>\n",
       "      <th>31991</th>\n",
       "      <td>SPORTS</td>\n",
       "      <td>4.397152424</td>\n",
       "      <td>2669.0</td>\n",
       "      <td>100,000+</td>\n",
       "      <td>Varies with device</td>\n",
       "      <td>0</td>\n",
       "      <td>Everyone</td>\n",
       "    </tr>\n",
       "    <tr>\n",
       "      <th>31992</th>\n",
       "      <td>ENTERTAINMENT</td>\n",
       "      <td>4.053231716</td>\n",
       "      <td>526.0</td>\n",
       "      <td>10,000+</td>\n",
       "      <td>Varies with device</td>\n",
       "      <td>0</td>\n",
       "      <td>Teen</td>\n",
       "    </tr>\n",
       "    <tr>\n",
       "      <th>31993</th>\n",
       "      <td>FINANCE</td>\n",
       "      <td>4.582448959</td>\n",
       "      <td>14039.0</td>\n",
       "      <td>50,000+</td>\n",
       "      <td>9.0M</td>\n",
       "      <td>$2.50</td>\n",
       "      <td>Everyone</td>\n",
       "    </tr>\n",
       "    <tr>\n",
       "      <th>31994</th>\n",
       "      <td>NEWS_AND_MAGAZINES</td>\n",
       "      <td>4.495098114</td>\n",
       "      <td>204.0</td>\n",
       "      <td>10,000+</td>\n",
       "      <td>19M</td>\n",
       "      <td>0</td>\n",
       "      <td>Teen</td>\n",
       "    </tr>\n",
       "    <tr>\n",
       "      <th>31995</th>\n",
       "      <td>NEWS_AND_MAGAZINES</td>\n",
       "      <td>4.5</td>\n",
       "      <td>8.0</td>\n",
       "      <td>50+</td>\n",
       "      <td>9.6M</td>\n",
       "      <td>0</td>\n",
       "      <td>Everyone</td>\n",
       "    </tr>\n",
       "    <tr>\n",
       "      <th>31996</th>\n",
       "      <td>GAME_SIMULATION</td>\n",
       "      <td>3.521126747</td>\n",
       "      <td>71.0</td>\n",
       "      <td>10,000+</td>\n",
       "      <td>6.5M</td>\n",
       "      <td>0</td>\n",
       "      <td>Everyone</td>\n",
       "    </tr>\n",
       "    <tr>\n",
       "      <th>31997</th>\n",
       "      <td>GAME_SIMULATION</td>\n",
       "      <td>3.994588852</td>\n",
       "      <td>924.0</td>\n",
       "      <td>100,000+</td>\n",
       "      <td>7.9M</td>\n",
       "      <td>0</td>\n",
       "      <td>Everyone</td>\n",
       "    </tr>\n",
       "    <tr>\n",
       "      <th>31998</th>\n",
       "      <td>TOOLS</td>\n",
       "      <td>4.25</td>\n",
       "      <td>1796.0</td>\n",
       "      <td>100,000+</td>\n",
       "      <td>6.8M</td>\n",
       "      <td>0</td>\n",
       "      <td>Everyone</td>\n",
       "    </tr>\n",
       "    <tr>\n",
       "      <th>31999</th>\n",
       "      <td>GAME_PUZZLE</td>\n",
       "      <td>4.224199295</td>\n",
       "      <td>3372.0</td>\n",
       "      <td>100,000+</td>\n",
       "      <td>35M</td>\n",
       "      <td>0</td>\n",
       "      <td>Everyone</td>\n",
       "    </tr>\n",
       "  </tbody>\n",
       "</table>\n",
       "<p>32000 rows × 7 columns</p>\n",
       "</div>"
      ],
      "text/plain": [
       "                  Category       Rating    Reviews      Installs  \\\n",
       "0           FOOD_AND_DRINK  4.548561573   305034.0    5,000,000+   \n",
       "1         TRAVEL_AND_LOCAL  4.400671482  1207922.0  100,000,000+   \n",
       "2                 SHOPPING  3.656329393     1967.0      100,000+   \n",
       "3           FOOD_AND_DRINK  4.107232571   389154.0   10,000,000+   \n",
       "4           FOOD_AND_DRINK  4.647752285     2291.0       10,000+   \n",
       "5           FOOD_AND_DRINK   3.82532239     2559.0      100,000+   \n",
       "6         TRAVEL_AND_LOCAL  4.267267704   421918.0   10,000,000+   \n",
       "7           FOOD_AND_DRINK  4.495084763   142618.0    5,000,000+   \n",
       "8         TRAVEL_AND_LOCAL  3.811764717       85.0       10,000+   \n",
       "9           FOOD_AND_DRINK  4.545353413    67514.0    5,000,000+   \n",
       "10          FOOD_AND_DRINK  4.511622429    28996.0    1,000,000+   \n",
       "11          FOOD_AND_DRINK  4.325407505    41637.0    1,000,000+   \n",
       "12               LIFESTYLE  3.213527918      754.0      100,000+   \n",
       "13          FOOD_AND_DRINK  4.160278797      287.0      100,000+   \n",
       "14          FOOD_AND_DRINK  4.739675045  1177040.0   10,000,000+   \n",
       "15          FOOD_AND_DRINK  4.630653858  1282039.0   10,000,000+   \n",
       "16          FOOD_AND_DRINK  4.374690533    52526.0    5,000,000+   \n",
       "17          FOOD_AND_DRINK  4.614589691    24291.0    1,000,000+   \n",
       "18          FOOD_AND_DRINK  4.517921925    41597.0    1,000,000+   \n",
       "19          FOOD_AND_DRINK  3.909141541    10764.0    1,000,000+   \n",
       "20          FOOD_AND_DRINK  4.514294147   164089.0   10,000,000+   \n",
       "21          FOOD_AND_DRINK   4.32782793  1521679.0   50,000,000+   \n",
       "22                SHOPPING  4.248818398     4867.0      500,000+   \n",
       "23                SHOPPING  3.813571692     8223.0    1,000,000+   \n",
       "24                SHOPPING  3.924423456    24849.0   10,000,000+   \n",
       "25          FOOD_AND_DRINK  4.689526558    62730.0    1,000,000+   \n",
       "26                SHOPPING  4.420088291   467761.0   10,000,000+   \n",
       "27          FOOD_AND_DRINK  4.568304539    39280.0    1,000,000+   \n",
       "28          FOOD_AND_DRINK  4.397297859   217693.0   10,000,000+   \n",
       "29          FOOD_AND_DRINK  4.599673271   103468.0    5,000,000+   \n",
       "...                    ...          ...        ...           ...   \n",
       "31970               SPORTS  3.885766745     9787.0      500,000+   \n",
       "31971               SPORTS  3.898115396    78481.0    5,000,000+   \n",
       "31972               SPORTS  4.581111908    55146.0    5,000,000+   \n",
       "31973            EDUCATION  4.303571224      112.0       10,000+   \n",
       "31974  BOOKS_AND_REFERENCE  4.776018143      442.0       10,000+   \n",
       "31975  BOOKS_AND_REFERENCE  4.823009014      113.0        1,000+   \n",
       "31976  BOOKS_AND_REFERENCE  4.857190132     3025.0      100,000+   \n",
       "31977  BOOKS_AND_REFERENCE  4.845118046     1188.0       50,000+   \n",
       "31978  BOOKS_AND_REFERENCE  4.923077106      351.0       10,000+   \n",
       "31979            EDUCATION  4.746913433      486.0      100,000+   \n",
       "31980            EDUCATION  4.454545498       11.0        5,000+   \n",
       "31981            EDUCATION  4.638059616      804.0      100,000+   \n",
       "31982            EDUCATION  4.607842922     1224.0      100,000+   \n",
       "31983                TOOLS  3.304606199      673.0       10,000+   \n",
       "31984        ENTERTAINMENT  3.628856897    11214.0      100,000+   \n",
       "31985                TOOLS  3.991338491     1270.0       50,000+   \n",
       "31986            EDUCATION  3.933333397       15.0        1,000+   \n",
       "31987     GAME_EDUCATIONAL  4.579809189     1466.0       50,000+   \n",
       "31988                TOOLS          3.5       10.0        1,000+   \n",
       "31989             BUSINESS  4.800000191        5.0        1,000+   \n",
       "31990             BUSINESS   1.51111114       45.0        5,000+   \n",
       "31991               SPORTS  4.397152424     2669.0      100,000+   \n",
       "31992        ENTERTAINMENT  4.053231716      526.0       10,000+   \n",
       "31993              FINANCE  4.582448959    14039.0       50,000+   \n",
       "31994   NEWS_AND_MAGAZINES  4.495098114      204.0       10,000+   \n",
       "31995   NEWS_AND_MAGAZINES          4.5        8.0           50+   \n",
       "31996      GAME_SIMULATION  3.521126747       71.0       10,000+   \n",
       "31997      GAME_SIMULATION  3.994588852      924.0      100,000+   \n",
       "31998                TOOLS         4.25     1796.0      100,000+   \n",
       "31999          GAME_PUZZLE  4.224199295     3372.0      100,000+   \n",
       "\n",
       "                     Size  Price Content Rating  \n",
       "0      Varies with device      0       Everyone  \n",
       "1      Varies with device      0       Everyone  \n",
       "2                    1.4M      0       Everyone  \n",
       "3                     16M      0       Everyone  \n",
       "4      Varies with device  $5.99       Everyone  \n",
       "5                     23M      0       Everyone  \n",
       "6      Varies with device      0           Teen  \n",
       "7      Varies with device      0       Everyone  \n",
       "8                    4.1M      0       Everyone  \n",
       "9      Varies with device      0       Everyone  \n",
       "10     Varies with device      0       Everyone  \n",
       "11     Varies with device      0       Everyone  \n",
       "12                    39M      0       Everyone  \n",
       "13                   8.1M      0       Everyone  \n",
       "14     Varies with device      0       Everyone  \n",
       "15     Varies with device      0       Everyone  \n",
       "16                    19M      0       Everyone  \n",
       "17     Varies with device      0       Everyone  \n",
       "18                    30M      0       Everyone  \n",
       "19                    11M      0       Everyone  \n",
       "20                    11M      0       Everyone  \n",
       "21     Varies with device      0       Everyone  \n",
       "22                    23M      0       Everyone  \n",
       "23                    14M      0       Everyone  \n",
       "24                    38M      0           Teen  \n",
       "25                    15M      0       Everyone  \n",
       "26                    55M      0       Everyone  \n",
       "27                   7.8M      0       Everyone  \n",
       "28                    30M      0       Everyone  \n",
       "29                    17M      0       Everyone  \n",
       "...                   ...    ...            ...  \n",
       "31970  Varies with device      0       Everyone  \n",
       "31971                 15M      0       Everyone  \n",
       "31972                 12M      0       Everyone  \n",
       "31973                3.7M      0       Everyone  \n",
       "31974                 20M      0       Everyone  \n",
       "31975                 29M      0       Everyone  \n",
       "31976                 41M      0       Everyone  \n",
       "31977                 24M      0       Everyone  \n",
       "31978                 46M      0       Everyone  \n",
       "31979                 11M      0       Everyone  \n",
       "31980                6.9M      0       Everyone  \n",
       "31981                 21M      0       Everyone  \n",
       "31982                6.3M      0       Everyone  \n",
       "31983                3.5M      0       Everyone  \n",
       "31984                1.6M      0       Everyone  \n",
       "31985                 10M      0       Everyone  \n",
       "31986                 66M      0       Everyone  \n",
       "31987                 22M      0       Everyone  \n",
       "31988                1.7M      0       Everyone  \n",
       "31989                 48M      0           Teen  \n",
       "31990                 50M      0       Everyone  \n",
       "31991  Varies with device      0       Everyone  \n",
       "31992  Varies with device      0           Teen  \n",
       "31993                9.0M  $2.50       Everyone  \n",
       "31994                 19M      0           Teen  \n",
       "31995                9.6M      0       Everyone  \n",
       "31996                6.5M      0       Everyone  \n",
       "31997                7.9M      0       Everyone  \n",
       "31998                6.8M      0       Everyone  \n",
       "31999                 35M      0       Everyone  \n",
       "\n",
       "[32000 rows x 7 columns]"
      ]
     },
     "execution_count": 4,
     "metadata": {},
     "output_type": "execute_result"
    }
   ],
   "source": [
    "gp"
   ]
  },
  {
   "cell_type": "markdown",
   "metadata": {},
   "source": [
    "# Missing Values"
   ]
  },
  {
   "cell_type": "code",
   "execution_count": 5,
   "metadata": {},
   "outputs": [
    {
     "data": {
      "text/plain": [
       "Reviews           0.000031\n",
       "Content Rating    0.000000\n",
       "Price             0.000000\n",
       "Size              0.000000\n",
       "Installs          0.000000\n",
       "Rating            0.000000\n",
       "Category          0.000000\n",
       "dtype: float64"
      ]
     },
     "execution_count": 5,
     "metadata": {},
     "output_type": "execute_result"
    }
   ],
   "source": [
    "gp.isnull().mean().sort_values(ascending=False)"
   ]
  },
  {
   "cell_type": "code",
   "execution_count": 6,
   "metadata": {},
   "outputs": [],
   "source": [
    "m_rev=gp[\"Reviews\"].mean()"
   ]
  },
  {
   "cell_type": "code",
   "execution_count": 7,
   "metadata": {},
   "outputs": [],
   "source": [
    "gp[\"Reviews\"] =gp[\"Reviews\"].fillna(m_rev)"
   ]
  },
  {
   "cell_type": "code",
   "execution_count": 8,
   "metadata": {},
   "outputs": [
    {
     "data": {
      "text/plain": [
       "Category           object\n",
       "Rating             object\n",
       "Reviews           float64\n",
       "Installs           object\n",
       "Size               object\n",
       "Price              object\n",
       "Content Rating     object\n",
       "dtype: object"
      ]
     },
     "execution_count": 8,
     "metadata": {},
     "output_type": "execute_result"
    }
   ],
   "source": [
    "gp.dtypes"
   ]
  },
  {
   "cell_type": "markdown",
   "metadata": {},
   "source": [
    "# Hence all the most dtypes are in string, need to change into int "
   ]
  },
  {
   "cell_type": "code",
   "execution_count": 9,
   "metadata": {},
   "outputs": [],
   "source": [
    "gp.Reviews=gp.Reviews.astype('int64')"
   ]
  },
  {
   "cell_type": "markdown",
   "metadata": {},
   "source": [
    "# Install coloumn"
   ]
  },
  {
   "cell_type": "code",
   "execution_count": 10,
   "metadata": {},
   "outputs": [
    {
     "data": {
      "text/plain": [
       "0      5000000\n",
       "1    100000000\n",
       "2       100000\n",
       "3     10000000\n",
       "4        10000\n",
       "Name: Installs, dtype: int64"
      ]
     },
     "execution_count": 10,
     "metadata": {},
     "output_type": "execute_result"
    }
   ],
   "source": [
    "new_Install=[]\n",
    "for row in gp.Installs:\n",
    "    row = row[:-1]\n",
    "    newrow = row.replace(\",\",\"\")\n",
    "    try:\n",
    "        new_Install.append(int(newrow))\n",
    "    except:\n",
    "        a=100000\n",
    "        new_Install.append(a)\n",
    "gp.Installs=new_Install\n",
    "gp.Installs.head()\n",
    "        "
   ]
  },
  {
   "cell_type": "markdown",
   "metadata": {},
   "source": [
    "# Price Column"
   ]
  },
  {
   "cell_type": "code",
   "execution_count": 11,
   "metadata": {},
   "outputs": [
    {
     "data": {
      "text/plain": [
       "0    0\n",
       "1    0\n",
       "2    0\n",
       "3    0\n",
       "4    1\n",
       "Name: Price, dtype: int64"
      ]
     },
     "execution_count": 11,
     "metadata": {},
     "output_type": "execute_result"
    }
   ],
   "source": [
    "new_Price=[]\n",
    "for np in gp.Price:\n",
    "    if np=='0':\n",
    "        newrow=0\n",
    "    else:\n",
    "        newrow=1\n",
    "    new_Price.append(newrow)\n",
    "gp.Price = new_Price\n",
    "gp.Price.head()\n",
    "    \n",
    "            \n",
    "    "
   ]
  },
  {
   "cell_type": "markdown",
   "metadata": {},
   "source": [
    "# Size"
   ]
  },
  {
   "cell_type": "code",
   "execution_count": 12,
   "metadata": {},
   "outputs": [
    {
     "data": {
      "text/plain": [
       "0     0.0\n",
       "1     0.0\n",
       "2     1.4\n",
       "3    16.0\n",
       "4     0.0\n",
       "Name: Size, dtype: float64"
      ]
     },
     "execution_count": 12,
     "metadata": {},
     "output_type": "execute_result"
    }
   ],
   "source": [
    "new_Size =[]\n",
    "for size in gp.Size:\n",
    "    size = size[:-1]\n",
    "    try:\n",
    "        new_Size.append(float(size))\n",
    "    except:\n",
    "        new_Size.append(0)\n",
    "gp.Size=new_Size\n",
    "gp.Size.head()\n",
    "    "
   ]
  },
  {
   "cell_type": "markdown",
   "metadata": {},
   "source": [
    "# Rating"
   ]
  },
  {
   "cell_type": "code",
   "execution_count": 13,
   "metadata": {},
   "outputs": [
    {
     "data": {
      "text/plain": [
       "0    4.548562\n",
       "1    4.400671\n",
       "2    3.656329\n",
       "3    4.107233\n",
       "4    4.647752\n",
       "Name: Rating, dtype: float64"
      ]
     },
     "execution_count": 13,
     "metadata": {},
     "output_type": "execute_result"
    }
   ],
   "source": [
    "new_Rate=[]\n",
    "for row in gp.Rating:\n",
    "    try:\n",
    "        \n",
    "        newrow =float(row[:])\n",
    "    except:  \n",
    "        newrow=4\n",
    "    new_Rate.append(newrow)\n",
    "        \n",
    "gp.Rating = new_Rate\n",
    "\n",
    "gp.Rating.head()"
   ]
  },
  {
   "cell_type": "code",
   "execution_count": 14,
   "metadata": {},
   "outputs": [],
   "source": [
    "gp[\"Rating\"]=gp[\"Rating\"].astype(\"int\")"
   ]
  },
  {
   "cell_type": "code",
   "execution_count": 15,
   "metadata": {},
   "outputs": [
    {
     "data": {
      "text/html": [
       "<div>\n",
       "<style scoped>\n",
       "    .dataframe tbody tr th:only-of-type {\n",
       "        vertical-align: middle;\n",
       "    }\n",
       "\n",
       "    .dataframe tbody tr th {\n",
       "        vertical-align: top;\n",
       "    }\n",
       "\n",
       "    .dataframe thead th {\n",
       "        text-align: right;\n",
       "    }\n",
       "</style>\n",
       "<table border=\"1\" class=\"dataframe\">\n",
       "  <thead>\n",
       "    <tr style=\"text-align: right;\">\n",
       "      <th></th>\n",
       "      <th>Category</th>\n",
       "      <th>Rating</th>\n",
       "      <th>Reviews</th>\n",
       "      <th>Installs</th>\n",
       "      <th>Size</th>\n",
       "      <th>Price</th>\n",
       "      <th>Content Rating</th>\n",
       "    </tr>\n",
       "  </thead>\n",
       "  <tbody>\n",
       "    <tr>\n",
       "      <th>count</th>\n",
       "      <td>32000</td>\n",
       "      <td>32000.000000</td>\n",
       "      <td>3.200000e+04</td>\n",
       "      <td>3.200000e+04</td>\n",
       "      <td>32000.000000</td>\n",
       "      <td>32000.000000</td>\n",
       "      <td>32000</td>\n",
       "    </tr>\n",
       "    <tr>\n",
       "      <th>unique</th>\n",
       "      <td>52</td>\n",
       "      <td>NaN</td>\n",
       "      <td>NaN</td>\n",
       "      <td>NaN</td>\n",
       "      <td>NaN</td>\n",
       "      <td>NaN</td>\n",
       "      <td>9</td>\n",
       "    </tr>\n",
       "    <tr>\n",
       "      <th>top</th>\n",
       "      <td>EDUCATION</td>\n",
       "      <td>NaN</td>\n",
       "      <td>NaN</td>\n",
       "      <td>NaN</td>\n",
       "      <td>NaN</td>\n",
       "      <td>NaN</td>\n",
       "      <td>Everyone</td>\n",
       "    </tr>\n",
       "    <tr>\n",
       "      <th>freq</th>\n",
       "      <td>3431</td>\n",
       "      <td>NaN</td>\n",
       "      <td>NaN</td>\n",
       "      <td>NaN</td>\n",
       "      <td>NaN</td>\n",
       "      <td>NaN</td>\n",
       "      <td>27455</td>\n",
       "    </tr>\n",
       "    <tr>\n",
       "      <th>mean</th>\n",
       "      <td>NaN</td>\n",
       "      <td>3.808219</td>\n",
       "      <td>9.849088e+04</td>\n",
       "      <td>4.126199e+06</td>\n",
       "      <td>26.301331</td>\n",
       "      <td>0.064062</td>\n",
       "      <td>NaN</td>\n",
       "    </tr>\n",
       "    <tr>\n",
       "      <th>std</th>\n",
       "      <td>NaN</td>\n",
       "      <td>0.532691</td>\n",
       "      <td>1.173693e+06</td>\n",
       "      <td>5.871726e+07</td>\n",
       "      <td>64.285947</td>\n",
       "      <td>0.244868</td>\n",
       "      <td>NaN</td>\n",
       "    </tr>\n",
       "    <tr>\n",
       "      <th>min</th>\n",
       "      <td>NaN</td>\n",
       "      <td>1.000000</td>\n",
       "      <td>1.000000e+00</td>\n",
       "      <td>0.000000e+00</td>\n",
       "      <td>0.000000</td>\n",
       "      <td>0.000000</td>\n",
       "      <td>NaN</td>\n",
       "    </tr>\n",
       "    <tr>\n",
       "      <th>25%</th>\n",
       "      <td>NaN</td>\n",
       "      <td>4.000000</td>\n",
       "      <td>1.390000e+02</td>\n",
       "      <td>1.000000e+04</td>\n",
       "      <td>4.400000</td>\n",
       "      <td>0.000000</td>\n",
       "      <td>NaN</td>\n",
       "    </tr>\n",
       "    <tr>\n",
       "      <th>50%</th>\n",
       "      <td>NaN</td>\n",
       "      <td>4.000000</td>\n",
       "      <td>1.463000e+03</td>\n",
       "      <td>1.000000e+05</td>\n",
       "      <td>12.000000</td>\n",
       "      <td>0.000000</td>\n",
       "      <td>NaN</td>\n",
       "    </tr>\n",
       "    <tr>\n",
       "      <th>75%</th>\n",
       "      <td>NaN</td>\n",
       "      <td>4.000000</td>\n",
       "      <td>1.444950e+04</td>\n",
       "      <td>1.000000e+06</td>\n",
       "      <td>30.000000</td>\n",
       "      <td>0.000000</td>\n",
       "      <td>NaN</td>\n",
       "    </tr>\n",
       "    <tr>\n",
       "      <th>max</th>\n",
       "      <td>NaN</td>\n",
       "      <td>5.000000</td>\n",
       "      <td>8.621429e+07</td>\n",
       "      <td>5.000000e+09</td>\n",
       "      <td>999.000000</td>\n",
       "      <td>1.000000</td>\n",
       "      <td>NaN</td>\n",
       "    </tr>\n",
       "  </tbody>\n",
       "</table>\n",
       "</div>"
      ],
      "text/plain": [
       "         Category        Rating       Reviews      Installs          Size  \\\n",
       "count       32000  32000.000000  3.200000e+04  3.200000e+04  32000.000000   \n",
       "unique         52           NaN           NaN           NaN           NaN   \n",
       "top     EDUCATION           NaN           NaN           NaN           NaN   \n",
       "freq         3431           NaN           NaN           NaN           NaN   \n",
       "mean          NaN      3.808219  9.849088e+04  4.126199e+06     26.301331   \n",
       "std           NaN      0.532691  1.173693e+06  5.871726e+07     64.285947   \n",
       "min           NaN      1.000000  1.000000e+00  0.000000e+00      0.000000   \n",
       "25%           NaN      4.000000  1.390000e+02  1.000000e+04      4.400000   \n",
       "50%           NaN      4.000000  1.463000e+03  1.000000e+05     12.000000   \n",
       "75%           NaN      4.000000  1.444950e+04  1.000000e+06     30.000000   \n",
       "max           NaN      5.000000  8.621429e+07  5.000000e+09    999.000000   \n",
       "\n",
       "               Price Content Rating  \n",
       "count   32000.000000          32000  \n",
       "unique           NaN              9  \n",
       "top              NaN       Everyone  \n",
       "freq             NaN          27455  \n",
       "mean        0.064062            NaN  \n",
       "std         0.244868            NaN  \n",
       "min         0.000000            NaN  \n",
       "25%         0.000000            NaN  \n",
       "50%         0.000000            NaN  \n",
       "75%         0.000000            NaN  \n",
       "max         1.000000            NaN  "
      ]
     },
     "execution_count": 15,
     "metadata": {},
     "output_type": "execute_result"
    }
   ],
   "source": [
    "gp.describe(include=\"all\")"
   ]
  },
  {
   "cell_type": "markdown",
   "metadata": {},
   "source": [
    "#Content Rating "
   ]
  },
  {
   "cell_type": "code",
   "execution_count": 16,
   "metadata": {},
   "outputs": [
    {
     "data": {
      "text/plain": [
       "Everyone           27455\n",
       "Teen                2860\n",
       "Everyone 10+        1054\n",
       "Mature 17+           622\n",
       "Adults only 18+        3\n",
       "Unrated                3\n",
       "100,000+               1\n",
       "0                      1\n",
       "$0.99                  1\n",
       "Name: Content Rating, dtype: int64"
      ]
     },
     "execution_count": 16,
     "metadata": {},
     "output_type": "execute_result"
    }
   ],
   "source": [
    "gp[\"Content Rating\"].value_counts()"
   ]
  },
  {
   "cell_type": "code",
   "execution_count": 17,
   "metadata": {},
   "outputs": [
    {
     "data": {
      "text/plain": [
       "0    2\n",
       "1    2\n",
       "2    2\n",
       "3    2\n",
       "4    2\n",
       "Name: Content Rating, dtype: int64"
      ]
     },
     "execution_count": 17,
     "metadata": {},
     "output_type": "execute_result"
    }
   ],
   "source": [
    "con_ra=[]\n",
    "for row in gp[\"Content Rating\"]:\n",
    "    if row==\"Everyone\":\n",
    "        new_cr= 2\n",
    "    elif row==\"Mature 17+\" or row==\"Adults only 18+\":\n",
    "        new_cr=1\n",
    "    elif row==\"Teen\":\n",
    "        new_cr=0\n",
    "    else:\n",
    "        new_cr=2\n",
    "    con_ra.append(new_cr)\n",
    "\n",
    "gp[\"Content Rating\"]= con_ra\n",
    "\n",
    "gp[\"Content Rating\"].head()    "
   ]
  },
  {
   "cell_type": "code",
   "execution_count": 18,
   "metadata": {},
   "outputs": [
    {
     "data": {
      "text/html": [
       "<div>\n",
       "<style scoped>\n",
       "    .dataframe tbody tr th:only-of-type {\n",
       "        vertical-align: middle;\n",
       "    }\n",
       "\n",
       "    .dataframe tbody tr th {\n",
       "        vertical-align: top;\n",
       "    }\n",
       "\n",
       "    .dataframe thead th {\n",
       "        text-align: right;\n",
       "    }\n",
       "</style>\n",
       "<table border=\"1\" class=\"dataframe\">\n",
       "  <thead>\n",
       "    <tr style=\"text-align: right;\">\n",
       "      <th></th>\n",
       "      <th>Category</th>\n",
       "      <th>Rating</th>\n",
       "      <th>Reviews</th>\n",
       "      <th>Installs</th>\n",
       "      <th>Size</th>\n",
       "      <th>Price</th>\n",
       "      <th>Content Rating</th>\n",
       "    </tr>\n",
       "  </thead>\n",
       "  <tbody>\n",
       "    <tr>\n",
       "      <th>count</th>\n",
       "      <td>32000</td>\n",
       "      <td>32000.000000</td>\n",
       "      <td>3.200000e+04</td>\n",
       "      <td>3.200000e+04</td>\n",
       "      <td>32000.000000</td>\n",
       "      <td>32000.000000</td>\n",
       "      <td>32000.000000</td>\n",
       "    </tr>\n",
       "    <tr>\n",
       "      <th>unique</th>\n",
       "      <td>52</td>\n",
       "      <td>NaN</td>\n",
       "      <td>NaN</td>\n",
       "      <td>NaN</td>\n",
       "      <td>NaN</td>\n",
       "      <td>NaN</td>\n",
       "      <td>NaN</td>\n",
       "    </tr>\n",
       "    <tr>\n",
       "      <th>top</th>\n",
       "      <td>EDUCATION</td>\n",
       "      <td>NaN</td>\n",
       "      <td>NaN</td>\n",
       "      <td>NaN</td>\n",
       "      <td>NaN</td>\n",
       "      <td>NaN</td>\n",
       "      <td>NaN</td>\n",
       "    </tr>\n",
       "    <tr>\n",
       "      <th>freq</th>\n",
       "      <td>3431</td>\n",
       "      <td>NaN</td>\n",
       "      <td>NaN</td>\n",
       "      <td>NaN</td>\n",
       "      <td>NaN</td>\n",
       "      <td>NaN</td>\n",
       "      <td>NaN</td>\n",
       "    </tr>\n",
       "    <tr>\n",
       "      <th>mean</th>\n",
       "      <td>NaN</td>\n",
       "      <td>3.808219</td>\n",
       "      <td>9.849088e+04</td>\n",
       "      <td>4.126199e+06</td>\n",
       "      <td>26.301331</td>\n",
       "      <td>0.064062</td>\n",
       "      <td>1.801719</td>\n",
       "    </tr>\n",
       "    <tr>\n",
       "      <th>std</th>\n",
       "      <td>NaN</td>\n",
       "      <td>0.532691</td>\n",
       "      <td>1.173693e+06</td>\n",
       "      <td>5.871726e+07</td>\n",
       "      <td>64.285947</td>\n",
       "      <td>0.244868</td>\n",
       "      <td>0.581142</td>\n",
       "    </tr>\n",
       "    <tr>\n",
       "      <th>min</th>\n",
       "      <td>NaN</td>\n",
       "      <td>1.000000</td>\n",
       "      <td>1.000000e+00</td>\n",
       "      <td>0.000000e+00</td>\n",
       "      <td>0.000000</td>\n",
       "      <td>0.000000</td>\n",
       "      <td>0.000000</td>\n",
       "    </tr>\n",
       "    <tr>\n",
       "      <th>25%</th>\n",
       "      <td>NaN</td>\n",
       "      <td>4.000000</td>\n",
       "      <td>1.390000e+02</td>\n",
       "      <td>1.000000e+04</td>\n",
       "      <td>4.400000</td>\n",
       "      <td>0.000000</td>\n",
       "      <td>2.000000</td>\n",
       "    </tr>\n",
       "    <tr>\n",
       "      <th>50%</th>\n",
       "      <td>NaN</td>\n",
       "      <td>4.000000</td>\n",
       "      <td>1.463000e+03</td>\n",
       "      <td>1.000000e+05</td>\n",
       "      <td>12.000000</td>\n",
       "      <td>0.000000</td>\n",
       "      <td>2.000000</td>\n",
       "    </tr>\n",
       "    <tr>\n",
       "      <th>75%</th>\n",
       "      <td>NaN</td>\n",
       "      <td>4.000000</td>\n",
       "      <td>1.444950e+04</td>\n",
       "      <td>1.000000e+06</td>\n",
       "      <td>30.000000</td>\n",
       "      <td>0.000000</td>\n",
       "      <td>2.000000</td>\n",
       "    </tr>\n",
       "    <tr>\n",
       "      <th>max</th>\n",
       "      <td>NaN</td>\n",
       "      <td>5.000000</td>\n",
       "      <td>8.621429e+07</td>\n",
       "      <td>5.000000e+09</td>\n",
       "      <td>999.000000</td>\n",
       "      <td>1.000000</td>\n",
       "      <td>2.000000</td>\n",
       "    </tr>\n",
       "  </tbody>\n",
       "</table>\n",
       "</div>"
      ],
      "text/plain": [
       "         Category        Rating       Reviews      Installs          Size  \\\n",
       "count       32000  32000.000000  3.200000e+04  3.200000e+04  32000.000000   \n",
       "unique         52           NaN           NaN           NaN           NaN   \n",
       "top     EDUCATION           NaN           NaN           NaN           NaN   \n",
       "freq         3431           NaN           NaN           NaN           NaN   \n",
       "mean          NaN      3.808219  9.849088e+04  4.126199e+06     26.301331   \n",
       "std           NaN      0.532691  1.173693e+06  5.871726e+07     64.285947   \n",
       "min           NaN      1.000000  1.000000e+00  0.000000e+00      0.000000   \n",
       "25%           NaN      4.000000  1.390000e+02  1.000000e+04      4.400000   \n",
       "50%           NaN      4.000000  1.463000e+03  1.000000e+05     12.000000   \n",
       "75%           NaN      4.000000  1.444950e+04  1.000000e+06     30.000000   \n",
       "max           NaN      5.000000  8.621429e+07  5.000000e+09    999.000000   \n",
       "\n",
       "               Price  Content Rating  \n",
       "count   32000.000000    32000.000000  \n",
       "unique           NaN             NaN  \n",
       "top              NaN             NaN  \n",
       "freq             NaN             NaN  \n",
       "mean        0.064062        1.801719  \n",
       "std         0.244868        0.581142  \n",
       "min         0.000000        0.000000  \n",
       "25%         0.000000        2.000000  \n",
       "50%         0.000000        2.000000  \n",
       "75%         0.000000        2.000000  \n",
       "max         1.000000        2.000000  "
      ]
     },
     "execution_count": 18,
     "metadata": {},
     "output_type": "execute_result"
    }
   ],
   "source": [
    "gp.describe(include=\"all\")"
   ]
  },
  {
   "cell_type": "markdown",
   "metadata": {},
   "source": [
    "# Analysing Data\n",
    "# Dataset contains arount 32,000 apps across 52 different categories in the Google App Store like Education, Food & Drink, Books & Reference, Travel & Local, Health & Fitness,Social, Finance, Medical, and Entertainment etc..\n",
    "## By using some visualizing tools like seaborn,matplotlib etc.."
   ]
  },
  {
   "cell_type": "code",
   "execution_count": 19,
   "metadata": {},
   "outputs": [
    {
     "data": {
      "text/plain": [
       "<matplotlib.axes._subplots.AxesSubplot at 0x98ffa90>"
      ]
     },
     "execution_count": 19,
     "metadata": {},
     "output_type": "execute_result"
    }
   ],
   "source": [
    "gp.Category.value_counts().plot(kind='barh',figsize=(12,22))"
   ]
  },
  {
   "cell_type": "markdown",
   "metadata": {},
   "source": [
    "# Observation"
   ]
  },
  {
   "cell_type": "markdown",
   "metadata": {},
   "source": [
    "### From the above chart we can understand that the Education app is highest among all around 3400 apps from education\n",
    "### The least are podcast,channel new 2 ect..\n",
    "### so it could be noticed that some of the apps are in average number(1000-1500) in our dataset. "
   ]
  },
  {
   "cell_type": "code",
   "execution_count": 20,
   "metadata": {},
   "outputs": [
    {
     "data": {
      "text/plain": [
       "<matplotlib.axes._subplots.AxesSubplot at 0x9a70ba8>"
      ]
     },
     "execution_count": 20,
     "metadata": {},
     "output_type": "execute_result"
    },
    {
     "data": {
      "image/png": "[encoded data removed]",
      "text/plain": [
       "<Figure size 864x144 with 1 Axes>"
      ]
     },
     "metadata": {
      "needs_background": "light"
     },
     "output_type": "display_data"
    }
   ],
   "source": [
    "gp[\"Price\"].value_counts().plot(kind='barh',figsize= (12,2))"
   ]
  },
  {
   "cell_type": "markdown",
   "metadata": {},
   "source": [
    "### Most of the 90% apps are free to install.The highest insatallation are done in free apps.Play Store has vast apps with cost, but most of these apps had been downloaded only by few.  "
   ]
  },
  {
   "cell_type": "code",
   "execution_count": 21,
   "metadata": {},
   "outputs": [
    {
     "data": {
      "text/plain": [
       "<matplotlib.axes._subplots.AxesSubplot at 0xa547630>"
      ]
     },
     "execution_count": 21,
     "metadata": {},
     "output_type": "execute_result"
    },
    {
     "data": {
      "image/png": "[encoded data removed]",
      "text/plain": [
       "<Figure size 864x144 with 1 Axes>"
      ]
     },
     "metadata": {
      "needs_background": "light"
     },
     "output_type": "display_data"
    }
   ],
   "source": [
    "gp[\"Rating\"].value_counts().plot(kind='barh',figsize= (12,2))"
   ]
  },
  {
   "cell_type": "markdown",
   "metadata": {},
   "source": [
    "# most of people who gave ratings for the apps are likely to be 4. "
   ]
  },
  {
   "cell_type": "code",
   "execution_count": 104,
   "metadata": {},
   "outputs": [],
   "source": [
    "\n",
    "import matplotlib.pyplot as plt"
   ]
  },
  {
   "cell_type": "code",
   "execution_count": 23,
   "metadata": {},
   "outputs": [],
   "source": [
    "cr=gp.loc[:,[\"Category\",\"Rating\"]]"
   ]
  },
  {
   "cell_type": "code",
   "execution_count": 24,
   "metadata": {},
   "outputs": [],
   "source": [
    "edr=[]\n",
    "tr=[]\n",
    "er=[]\n",
    "for i in range(0,32000,1):\n",
    "    ct=cr.iloc[i,0]\n",
    "    rt=cr.iloc[i,1]\n",
    "    if ct==\"FOOD_AND_DRINK\" and rt==1:\n",
    "        ro1=1\n",
    "        edr.append(ro1)\n",
    "    elif ct==\"FOOD_AND_DRINK\" and rt==2:\n",
    "        ro1=2\n",
    "        edr.append(ro1)\n",
    "    elif ct==\"FOOD_AND_DRINK\" and rt==3:\n",
    "        ro1=3\n",
    "        edr.append(ro1)\n",
    "    elif ct==\"FOOD_AND_DRINK\" and rt==4:\n",
    "        ro1=4\n",
    "        edr.append(ro1)\n",
    "    elif ct==\"TOOLS\" and rt==1:\n",
    "        ro2=1\n",
    "        tr.append(ro2)\n",
    "    elif ct==\"TOOLS\" and rt==2:\n",
    "        ro2=2\n",
    "        tr.append(ro2)\n",
    "    elif ct==\"TOOLS\" and rt==3:\n",
    "        ro2=3\n",
    "        tr.append(ro2)\n",
    "    elif ct==\"TOOLS\" and rt==4:\n",
    "        ro2=4\n",
    "        tr.append(ro2)\n",
    "    elif ct==\"ENTERTAINMENT\" and rt==1:\n",
    "        ro3=1\n",
    "        er.append(ro3)\n",
    "    elif ct==\"ENTERTAINMENT\" and rt==2:\n",
    "        ro3=2\n",
    "        er.append(ro3)\n",
    "    elif ct==\"ENTERTAINMENT\" and rt==3:\n",
    "        ro3=3\n",
    "        er.append(ro3)\n",
    "    elif ct==\"ENTERTAINMENT\" and rt==4:\n",
    "        ro3=4\n",
    "        er.append(ro3)\n",
    "    else:\n",
    "        pass"
   ]
  },
  {
   "cell_type": "code",
   "execution_count": 25,
   "metadata": {},
   "outputs": [
    {
     "data": {
      "text/plain": [
       "(array([   9.,    0.,    0.,   62.,    0.,    0.,  427.,    0.,    0.,\n",
       "        1532.]),\n",
       " array([1. , 1.3, 1.6, 1.9, 2.2, 2.5, 2.8, 3.1, 3.4, 3.7, 4. ]),\n",
       " <a list of 10 Patch objects>)"
      ]
     },
     "execution_count": 25,
     "metadata": {},
     "output_type": "execute_result"
    },
    {
     "data": {
      "image/png": "[encoded data removed]",
      "text/plain": [
       "<Figure size 432x288 with 1 Axes>"
      ]
     },
     "metadata": {
      "needs_background": "light"
     },
     "output_type": "display_data"
    }
   ],
   "source": [
    "plt.hist(edr,histtype=\"bar\",rwidth=0.8)\n",
    "plt.hist(tr,histtype=\"bar\",rwidth=0.6)\n",
    "plt.hist(er,histtype=\"bar\",rwidth=0.3)"
   ]
  },
  {
   "cell_type": "code",
   "execution_count": 45,
   "metadata": {},
   "outputs": [],
   "source": [
    "pie_cat= gp.groupby('Category').agg('count')\n",
    "pie_rate = gp.groupby('Rating').agg('count')\n"
   ]
  },
  {
   "cell_type": "code",
   "execution_count": 46,
   "metadata": {},
   "outputs": [],
   "source": [
    "def group_lower_ranking_values(column):\n",
    "    pie_counts = gp.groupby(column).agg('count')\n",
    "    pct_value = pie_counts[lambda df: df.columns[0]].quantile(.75)\n",
    "    values_below_pct_value = pie_counts[lambda df: df.columns[0]].loc[lambda s: s < pct_value].index.values\n",
    "    def fix_values(row):\n",
    "        if row[column] in values_below_pct_value:\n",
    "            row[column] = 'Other'\n",
    "        return row \n",
    "    pie_grouped = gp.apply(fix_values, axis=1).groupby(column).agg('count')\n",
    "    return pie_grouped\n",
    "\n",
    "pie_cat = group_lower_ranking_values('Category')\n",
    "pie_rate = group_lower_ranking_values('Rating')\n"
   ]
  },
  {
   "cell_type": "code",
   "execution_count": 47,
   "metadata": {},
   "outputs": [
    {
     "data": {
      "image/png": "[encoded data removed]",
      "text/plain": [
       "<Figure size 1440x720 with 2 Axes>"
      ]
     },
     "metadata": {},
     "output_type": "display_data"
    }
   ],
   "source": [
    "import matplotlib.ticker as ticker\n",
    "import matplotlib.cm as cm\n",
    "import matplotlib as mpl\n",
    "from matplotlib.gridspec import GridSpec\n",
    "import numpy as np\n",
    "\n",
    "import matplotlib.pyplot as plt\n",
    "%matplotlib inline\n",
    "\n",
    "cat_labels = pie_cat.Rating.sort_values().index\n",
    "cat_counts = pie_cat.Rating.sort_values()\n",
    "\n",
    "rate_labels = pie_rate.Category.sort_values().index\n",
    "rate_counts = pie_rate.Category.sort_values()\n",
    "\n",
    "plt.figure(1, figsize=(20,10))\n",
    "the_grid = GridSpec(2, 2)\n",
    "\n",
    "cmap = plt.get_cmap('Spectral')colors = [cmap(i) for i in np.linspace(0, 1, 8)]\n",
    "\n",
    "plt.subplot(the_grid[0, 1], aspect=1, title='Ratings for Category')\n",
    "\n",
    "source_pie = plt.pie(cat_counts, labels=cat_labels, autopct='%1.1f%%', shadow=True, colors=colors)\n",
    "\n",
    "\n",
    "plt.subplot(the_grid[0, 0], aspect=1, title='Rating')\n",
    "\n",
    "flavor_pie = plt.pie(rate_counts,labels=rate_labels, autopct='%.0f%%', shadow=True, colors=colors)\n",
    "\n",
    "plt.suptitle('Category and rating in apps', fontsize=16)\n",
    "\n",
    "\n",
    "plt.show()\n"
   ]
  },
  {
   "cell_type": "markdown",
   "metadata": {},
   "source": [
    "# Education, Tools and Entertainment were the most common categories,has rating for about 10%, 8% and 7% in our dataset.Almost 77% of the people had given 4 star rating"
   ]
  },
  {
   "cell_type": "code",
   "execution_count": 103,
   "metadata": {},
   "outputs": [
    {
     "data": {
      "text/plain": [
       "<matplotlib.axes._subplots.AxesSubplot at 0x1fcfdd68>"
      ]
     },
     "execution_count": 103,
     "metadata": {},
     "output_type": "execute_result"
    },
    {
     "data": {
      "image/png": "[encoded data removed]",
      "text/plain": [
       "<Figure size 432x288 with 1 Axes>"
      ]
     },
     "metadata": {},
     "output_type": "display_data"
    }
   ],
   "source": [
    "sns.distplot(gp.Price, rug=True, hist=True, kde=True)"
   ]
  },
  {
   "cell_type": "markdown",
   "metadata": {},
   "source": [
    "# In our dataset, the majority of apps in Education,Tools ,Entertainment categories had the biggest number of unpaid apps available for download. "
   ]
  },
  {
   "cell_type": "code",
   "execution_count": 66,
   "metadata": {},
   "outputs": [],
   "source": [
    "from sklearn.preprocessing import StandardScaler\n",
    "\n",
    "sc=StandardScaler()\n"
   ]
  },
  {
   "cell_type": "code",
   "execution_count": 68,
   "metadata": {},
   "outputs": [],
   "source": [
    "gp_arr=gp[\"Installs\"].values"
   ]
  },
  {
   "cell_type": "code",
   "execution_count": 69,
   "metadata": {},
   "outputs": [],
   "source": [
    "gp_arr=gp_arr.reshape(-1, 1)"
   ]
  },
  {
   "cell_type": "code",
   "execution_count": 70,
   "metadata": {},
   "outputs": [
    {
     "name": "stderr",
     "output_type": "stream",
     "text": [
      "C:\\Anaconda3\\lib\\site-packages\\sklearn\\utils\\validation.py:595: DataConversionWarning: Data with input dtype int64 was converted to float64 by StandardScaler.\n",
      "  warnings.warn(msg, DataConversionWarning)\n",
      "C:\\Anaconda3\\lib\\site-packages\\sklearn\\utils\\validation.py:595: DataConversionWarning: Data with input dtype int64 was converted to float64 by StandardScaler.\n",
      "  warnings.warn(msg, DataConversionWarning)\n"
     ]
    }
   ],
   "source": [
    "gp_arr=sc.fit_transform(gp_arr)"
   ]
  },
  {
   "cell_type": "code",
   "execution_count": 71,
   "metadata": {},
   "outputs": [],
   "source": [
    "gp[\"Installs\"]=gp_arr"
   ]
  },
  {
   "cell_type": "code",
   "execution_count": 72,
   "metadata": {},
   "outputs": [
    {
     "data": {
      "text/plain": [
       "<seaborn.axisgrid.FacetGrid at 0x15bbe390>"
      ]
     },
     "execution_count": 72,
     "metadata": {},
     "output_type": "execute_result"
    },
    {
     "data": {
      "image/png": "[encoded data removed]",
      "text/plain": [
       "<Figure size 474.375x432 with 1 Axes>"
      ]
     },
     "metadata": {
      "needs_background": "light"
     },
     "output_type": "display_data"
    }
   ],
   "source": [
    "sns.FacetGrid(gp,hue=\"Price\",height=6,xlim=(-1,1),ylim=(-1,1)).map(sns.distplot,\"Installs\").add_legend()"
   ]
  },
  {
   "cell_type": "markdown",
   "metadata": {},
   "source": [
    "## # here 0 represents free apps and 1 represents cost apps.There were more installation in free apps"
   ]
  },
  {
   "cell_type": "code",
   "execution_count": 75,
   "metadata": {},
   "outputs": [
    {
     "data": {
      "text/plain": [
       "<matplotlib.axes._subplots.AxesSubplot at 0x1f8b0eb8>"
      ]
     },
     "execution_count": 75,
     "metadata": {},
     "output_type": "execute_result"
    },
    {
     "data": {
      "image/png": "[encoded data removed]",
      "text/plain": [
       "<Figure size 432x288 with 1 Axes>"
      ]
     },
     "metadata": {
      "needs_background": "light"
     },
     "output_type": "display_data"
    }
   ],
   "source": [
    "sns.violinplot(x=\"Price\",y=\"Installs\",data=gp,size=7)"
   ]
  },
  {
   "cell_type": "markdown",
   "metadata": {},
   "source": [
    "# vertical line implies free apps\n",
    "# horizontal line implies cost apps\n"
   ]
  },
  {
   "cell_type": "code",
   "execution_count": 102,
   "metadata": {},
   "outputs": [
    {
     "data": {
      "text/plain": [
       "<matplotlib.axes._subplots.AxesSubplot at 0x1e3d7630>"
      ]
     },
     "execution_count": 102,
     "metadata": {},
     "output_type": "execute_result"
    },
    {
     "data": {
      "image/png": "[encoded data removed]",
      "text/plain": [
       "<Figure size 432x288 with 2 Axes>"
      ]
     },
     "metadata": {},
     "output_type": "display_data"
    }
   ],
   "source": [
    "gp1=gp.pivot_table(\"Rating\",\"Price\",\"Content Rating\",)\n",
    "sns.heatmap(gp1)"
   ]
  },
  {
   "cell_type": "markdown",
   "metadata": {},
   "source": [
    "# here we can observe three things\n",
    "# 1)Price 1 = cost and 0 = free apps\n",
    "# 2)Rating \n",
    "# 3)Content Rating \n",
    "####         Everyone = 2\n",
    "####         Mature 17+ or Adults only = 1\n",
    "####         Teen = 0\n",
    "# For free apps there were around 3.88 to 3.90 ratings from teens\n",
    "# For cost apps there were around 3.80 to 3.82 ratings from Mature17+ or adults only\n",
    "# Everyone had given 4 or above ratings to cost apps"
   ]
  },
  {
   "cell_type": "markdown",
   "metadata": {},
   "source": [
    "# Conclusion\n",
    "# From the google play Store Dataset the datas are preprocessed and make it into somehow sensible data"
   ]
  },
  {
   "cell_type": "code",
   "execution_count": null,
   "metadata": {},
   "outputs": [],
   "source": []
  },
  {
   "cell_type": "code",
   "execution_count": null,
   "metadata": {},
   "outputs": [],
   "source": []
  }
 ],
 "metadata": {
  "kernelspec": {
   "display_name": "Python 3",
   "language": "python",
   "name": "python3"
  },
  "language_info": {
   "codemirror_mode": {
    "name": "ipython",
    "version": 3
   },
   "file_extension": ".py",
   "mimetype": "text/x-python",
   "name": "python",
   "nbconvert_exporter": "python",
   "pygments_lexer": "ipython3",
   "version": "3.7.3"
  }
 },
 "nbformat": 4,
 "nbformat_minor": 2
}
